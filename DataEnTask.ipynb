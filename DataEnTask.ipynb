{
 "cells": [
  {
   "cell_type": "code",
   "execution_count": 197,
   "id": "ad019de3",
   "metadata": {},
   "outputs": [
    {
     "name": "stdout",
     "output_type": "stream",
     "text": [
      "Loading users\n",
      "--------------------------\n",
      "Loading videos\n",
      "Deleting invalid videos\n",
      "Converting creation timestamp to datetime\n",
      "--------------------------\n",
      "Loading user actions\n",
      "--------------------------\n",
      "Task 1. Event types list\n",
      "['add_tags', 'commented', 'created', 'like', 'remove_tags']\n"
     ]
    }
   ],
   "source": [
    "import pandas as pd\n",
    "import json\n",
    "import numpy as np\n",
    "from datetime import datetime\n",
    "\n",
    "data_path = \"C:\\\\Work\\\\Data Engeneer\\\\Sample Data\"\n",
    "print (\"Loading users\")\n",
    "users_df = pd.read_csv (data_path+\"\\\\users.csv\")\n",
    "users_df.categories=users_df.categories.str.split(';')\n",
    "print (\"--------------------------\")             \n",
    "print (\"Loading videos\")\n",
    "videos_df = pd.read_csv (data_path+\"\\\\videos.csv\")\n",
    "print (\"Deleting invalid videos\")\n",
    "videos_df = videos_df.drop(videos_df[videos_df['url'].map(len) < 5].index)\n",
    "print (\"Converting creation timestamp to datetime\")\n",
    "videos_df['creation_timestamp']=pd.to_datetime(pd.to_numeric(videos_df['creation_timestamp']), unit='s')\n",
    "print (\"--------------------------\")             \n",
    "print (\"Loading user actions\")\n",
    "user_actions = pd.DataFrame()\n",
    "\n",
    "try:\n",
    "    with open(data_path+\"\\\\events.jsonl\") as file:\n",
    "        for line in file:\n",
    "            if line.find(\"{\\\"events\\\":[\") != -1:            \n",
    "                json_object = json.loads(line)\n",
    "                df = pd.DataFrame(json_object[\"events\"])\n",
    "                df['timestamp']=pd.to_datetime(df['timestamp'], unit='s')\n",
    "                user_actions = pd.concat([user_actions, df])\n",
    "            else:\n",
    "                df = pd.read_json(\"[\"+line+\"]\")\n",
    "                user_actions = pd.concat([user_actions, df])\n",
    "except Exception as e:\n",
    "    print('Something went wrong {0}'.format(e))\n",
    "\n",
    "print (\"--------------------------\")             \n",
    "print (\"Task 1. Event types list\")\n",
    "print(sorted(user_actions['event'].unique()))"
   ]
  },
  {
   "cell_type": "code",
   "execution_count": 198,
   "id": "80a8f006",
   "metadata": {},
   "outputs": [],
   "source": [
    "likes_detailed_df = user_actions.loc[user_actions['event'] == \"like\"][[\"video_id\", \"timestamp\"]].merge(videos_df, \n",
    "                                                                                              how='left',\n",
    "                                                                                              left_on='video_id', \n",
    "                                                                                              right_on='id')[[\"name\", \"timestamp\"]]\n",
    "likes_detailed_df['timestamp'] = pd.to_datetime(likes_detailed_df['timestamp']).dt.date\n",
    "likes_dates_df = likes_detailed_df.groupby(['timestamp'])['name'].count()"
   ]
  },
  {
   "cell_type": "code",
   "execution_count": 199,
   "id": "94757698",
   "metadata": {},
   "outputs": [],
   "source": [
    "likes_grouped_df = likes_detailed_df.groupby(['name'])['name'].count()"
   ]
  },
  {
   "cell_type": "code",
   "execution_count": 200,
   "id": "2755d809",
   "metadata": {},
   "outputs": [
    {
     "data": {
      "image/png": "[encoded data removed]",
      "text/plain": [
       "<Figure size 1200x400 with 1 Axes>"
      ]
     },
     "metadata": {},
     "output_type": "display_data"
    }
   ],
   "source": [
    "plot = likes_grouped_df.plot.bar(rot=0, title='Likes by videos', xlabel='', ylabel='Likes count', fontsize=8, figsize=(12, 4))"
   ]
  },
  {
   "cell_type": "code",
   "execution_count": 201,
   "id": "cb556668",
   "metadata": {},
   "outputs": [
    {
     "data": {
      "image/png": "[encoded data removed]",
      "text/plain": [
       "<Figure size 1200x400 with 1 Axes>"
      ]
     },
     "metadata": {},
     "output_type": "display_data"
    }
   ],
   "source": [
    "plot2 = likes_dates_df.plot.bar(rot=0, title='Likes by dates',  xlabel='', ylabel='Likes count', fontsize=9, figsize=(12, 4))"
   ]
  },
  {
   "cell_type": "code",
   "execution_count": 202,
   "id": "31827b4f",
   "metadata": {
    "scrolled": true
   },
   "outputs": [],
   "source": [
    "#users_df"
   ]
  },
  {
   "cell_type": "code",
   "execution_count": 203,
   "id": "259a160a",
   "metadata": {
    "scrolled": true
   },
   "outputs": [],
   "source": [
    "#user_actions"
   ]
  },
  {
   "cell_type": "code",
   "execution_count": 204,
   "id": "9e18b687",
   "metadata": {},
   "outputs": [],
   "source": [
    "events_tags_list = ['created', 'add_tags'] \n",
    "events_tags_df = user_actions[user_actions['event'].isin(events_tags_list)][[\"video_id\", \"tags\"]]\n",
    "\n",
    "events_watch_list = ['like', 'commented']\n",
    "videos_watched_df = user_actions[user_actions['event'].isin(events_watch_list)][[\"user_id\", \"video_id\"]]"
   ]
  },
  {
   "cell_type": "code",
   "execution_count": 205,
   "id": "b4ba3847",
   "metadata": {},
   "outputs": [],
   "source": [
    "events_tags_df=events_tags_df.groupby('video_id').agg(sum)"
   ]
  },
  {
   "cell_type": "code",
   "execution_count": 206,
   "id": "b8338ac9",
   "metadata": {},
   "outputs": [
    {
     "data": {
      "text/plain": [
       "[['fname', 'lname', 'video_id', 'categories']]"
      ]
     },
     "execution_count": 206,
     "metadata": {},
     "output_type": "execute_result"
    }
   ],
   "source": [
    "my_df=videos_watched_df.merge(users_df, how='inner',left_on='user_id', right_on='id')\n",
    "[[\"fname\", \"lname\", \"video_id\", \"categories\"]]"
   ]
  },
  {
   "cell_type": "code",
   "execution_count": 207,
   "id": "c675d144",
   "metadata": {},
   "outputs": [],
   "source": [
    "my_df2=my_df.merge(events_tags_df, how='left', left_on='video_id', right_on='video_id')[[\"user_id\", \"video_id\", \"categories\", \"tags\"]]"
   ]
  },
  {
   "cell_type": "code",
   "execution_count": 208,
   "id": "d1bbb246",
   "metadata": {},
   "outputs": [],
   "source": [
    "my_df2['tags'] = my_df2['tags'].fillna(\"\")"
   ]
  },
  {
   "cell_type": "code",
   "execution_count": 209,
   "id": "c7b2439a",
   "metadata": {},
   "outputs": [],
   "source": [
    "my_df2['tags_match'] = [list(set(a).intersection(set(b))) \n",
    "                      for a, b in zip(my_df2.categories, my_df2.tags)]"
   ]
  },
  {
   "cell_type": "code",
   "execution_count": 210,
   "id": "2543641d",
   "metadata": {},
   "outputs": [
    {
     "data": {
      "text/html": [
       "<div>\n",
       "<style scoped>\n",
       "    .dataframe tbody tr th:only-of-type {\n",
       "        vertical-align: middle;\n",
       "    }\n",
       "\n",
       "    .dataframe tbody tr th {\n",
       "        vertical-align: top;\n",
       "    }\n",
       "\n",
       "    .dataframe thead th {\n",
       "        text-align: right;\n",
       "    }\n",
       "</style>\n",
       "<table border=\"1\" class=\"dataframe\">\n",
       "  <thead>\n",
       "    <tr style=\"text-align: right;\">\n",
       "      <th></th>\n",
       "      <th>user_id</th>\n",
       "      <th>video_id</th>\n",
       "      <th>tags_match</th>\n",
       "    </tr>\n",
       "  </thead>\n",
       "  <tbody>\n",
       "    <tr>\n",
       "      <th>0</th>\n",
       "      <td>4</td>\n",
       "      <td>100</td>\n",
       "      <td>[duck, animals]</td>\n",
       "    </tr>\n",
       "    <tr>\n",
       "      <th>1</th>\n",
       "      <td>4</td>\n",
       "      <td>101</td>\n",
       "      <td>[]</td>\n",
       "    </tr>\n",
       "    <tr>\n",
       "      <th>2</th>\n",
       "      <td>4</td>\n",
       "      <td>101</td>\n",
       "      <td>[]</td>\n",
       "    </tr>\n",
       "    <tr>\n",
       "      <th>3</th>\n",
       "      <td>4</td>\n",
       "      <td>110</td>\n",
       "      <td>[]</td>\n",
       "    </tr>\n",
       "    <tr>\n",
       "      <th>4</th>\n",
       "      <td>2</td>\n",
       "      <td>100</td>\n",
       "      <td>[duck, cute]</td>\n",
       "    </tr>\n",
       "    <tr>\n",
       "      <th>5</th>\n",
       "      <td>2</td>\n",
       "      <td>100</td>\n",
       "      <td>[duck, cute]</td>\n",
       "    </tr>\n",
       "    <tr>\n",
       "      <th>6</th>\n",
       "      <td>3</td>\n",
       "      <td>100</td>\n",
       "      <td>[animals, cute]</td>\n",
       "    </tr>\n",
       "    <tr>\n",
       "      <th>7</th>\n",
       "      <td>5</td>\n",
       "      <td>100</td>\n",
       "      <td>[food, cute]</td>\n",
       "    </tr>\n",
       "    <tr>\n",
       "      <th>8</th>\n",
       "      <td>5</td>\n",
       "      <td>101</td>\n",
       "      <td>[]</td>\n",
       "    </tr>\n",
       "    <tr>\n",
       "      <th>9</th>\n",
       "      <td>6</td>\n",
       "      <td>100</td>\n",
       "      <td>[food, animals]</td>\n",
       "    </tr>\n",
       "    <tr>\n",
       "      <th>10</th>\n",
       "      <td>6</td>\n",
       "      <td>101</td>\n",
       "      <td>[mountains, travel]</td>\n",
       "    </tr>\n",
       "    <tr>\n",
       "      <th>11</th>\n",
       "      <td>6</td>\n",
       "      <td>101</td>\n",
       "      <td>[mountains, travel]</td>\n",
       "    </tr>\n",
       "    <tr>\n",
       "      <th>12</th>\n",
       "      <td>0</td>\n",
       "      <td>101</td>\n",
       "      <td>[travel]</td>\n",
       "    </tr>\n",
       "    <tr>\n",
       "      <th>13</th>\n",
       "      <td>7</td>\n",
       "      <td>101</td>\n",
       "      <td>[bicycle, travel]</td>\n",
       "    </tr>\n",
       "    <tr>\n",
       "      <th>14</th>\n",
       "      <td>1</td>\n",
       "      <td>101</td>\n",
       "      <td>[bicycle]</td>\n",
       "    </tr>\n",
       "  </tbody>\n",
       "</table>\n",
       "</div>"
      ],
      "text/plain": [
       "    user_id  video_id           tags_match\n",
       "0         4       100      [duck, animals]\n",
       "1         4       101                   []\n",
       "2         4       101                   []\n",
       "3         4       110                   []\n",
       "4         2       100         [duck, cute]\n",
       "5         2       100         [duck, cute]\n",
       "6         3       100      [animals, cute]\n",
       "7         5       100         [food, cute]\n",
       "8         5       101                   []\n",
       "9         6       100      [food, animals]\n",
       "10        6       101  [mountains, travel]\n",
       "11        6       101  [mountains, travel]\n",
       "12        0       101             [travel]\n",
       "13        7       101    [bicycle, travel]\n",
       "14        1       101            [bicycle]"
      ]
     },
     "execution_count": 210,
     "metadata": {},
     "output_type": "execute_result"
    }
   ],
   "source": [
    "my_df2[[\"user_id\", \"video_id\", \"tags_match\"]]"
   ]
  },
  {
   "cell_type": "code",
   "execution_count": null,
   "id": "7a0ee643",
   "metadata": {},
   "outputs": [],
   "source": []
  },
  {
   "cell_type": "code",
   "execution_count": null,
   "id": "0b2bd06c",
   "metadata": {},
   "outputs": [],
   "source": []
  }
 ],
 "metadata": {
  "kernelspec": {
   "display_name": "Python 3 (ipykernel)",
   "language": "python",
   "name": "python3"
  },
  "language_info": {
   "codemirror_mode": {
    "name": "ipython",
    "version": 3
   },
   "file_extension": ".py",
   "mimetype": "text/x-python",
   "name": "python",
   "nbconvert_exporter": "python",
   "pygments_lexer": "ipython3",
   "version": "3.9.13"
  }
 },
 "nbformat": 4,
 "nbformat_minor": 5
}
